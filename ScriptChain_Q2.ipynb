{
  "cells": [
    {
      "cell_type": "markdown",
      "source": [
        "## Creating Dummy Dataset"
      ],
      "metadata": {
        "id": "aWEvjAeobmIZ"
      }
    },
    {
      "cell_type": "code",
      "execution_count": null,
      "metadata": {
        "colab": {
          "base_uri": "https://localhost:8080/"
        },
        "id": "otQHSV0lUL2T",
        "outputId": "74c173cd-db83-4d7c-d4ed-72ddeb9e730f"
      },
      "outputs": [
        {
          "name": "stdout",
          "output_type": "stream",
          "text": [
            "                                            Sentence         Label\n",
            "0  I am so happy with my purchase. Highly recomme...        Joyful\n",
            "1          This did not meet my expectations at all.  Disappointed\n",
            "2  This is the best experience I have had in a lo...        Joyful\n",
            "3  The customer service was excellent and very he...        Joyful\n",
            "4      The app is user-friendly and works perfectly.        Joyful\n"
          ]
        }
      ],
      "source": [
        "import random\n",
        "import pandas as pd\n",
        "\n",
        "sentiment_categories = {\n",
        "    \"Joyful\": [\n",
        "        \"I love this product! It's absolutely amazing.\",\n",
        "        \"The customer service was excellent and very helpful.\",\n",
        "        \"This is the best experience I have had in a long time.\",\n",
        "        \"I am so happy with my purchase. Highly recommend it!\",\n",
        "        \"Great quality and fantastic value for money.\",\n",
        "        \"The app is user-friendly and works perfectly.\",\n",
        "        \"I had a wonderful time at the restaurant. The food was delicious!\",\n",
        "        \"Fantastic movie! The storyline was engaging and well-executed.\",\n",
        "        \"This service exceeded my expectations in every way.\",\n",
        "        \"Very satisfied with the results. Would buy again.\"\n",
        "    ],\n",
        "    \"Frustrated\": [\n",
        "        \"I hate this product. It's absolutely terrible.\",\n",
        "        \"The customer service was rude and unhelpful.\",\n",
        "        \"This is the worst experience I have had in a long time.\",\n",
        "        \"I regret my purchase. Do not recommend it!\",\n",
        "        \"Poor quality and a waste of money.\",\n",
        "        \"The app is slow, buggy, and crashes frequently.\",\n",
        "        \"I had a horrible time at the restaurant. The food was awful!\",\n",
        "        \"Terrible movie! The storyline was boring and poorly executed.\",\n",
        "        \"This service was a complete disappointment.\",\n",
        "        \"Very dissatisfied with the results. Never buying again.\"\n",
        "    ],\n",
        "    \"Excited\": [\n",
        "        \"I can't wait to use this again, it's so good!\",\n",
        "        \"This event was thrilling and exceeded my expectations!\",\n",
        "        \"What an incredible opportunity, I'm beyond excited!\",\n",
        "        \"This is the most exciting thing I've ever experienced.\",\n",
        "        \"I'm so pumped about this new feature, it's revolutionary!\",\n",
        "        \"Absolutely mind-blowing, I feel so energized!\",\n",
        "        \"This is the kind of innovation that gets me truly excited.\",\n",
        "        \"The thrill of using this is unmatched!\",\n",
        "        \"I was on the edge of my seat the whole time!\",\n",
        "        \"Incredible! The experience left me feeling so alive!\"\n",
        "    ],\n",
        "    \"Disappointed\": [\n",
        "        \"I expected much better, this was a huge letdown.\",\n",
        "        \"This did not meet my expectations at all.\",\n",
        "        \"I'm really disappointed, I thought it would be much better.\",\n",
        "        \"Such a waste of time and money, very let down.\",\n",
        "        \"The hype was not justified, I feel let down.\",\n",
        "        \"Not what I hoped for, left feeling disappointed.\",\n",
        "        \"This service has really gone downhill, very sad.\",\n",
        "        \"A major disappointment, wouldn't recommend at all.\",\n",
        "        \"Fell short in every way, I wouldn't use it again.\",\n",
        "        \"This left me feeling extremely unsatisfied.\"\n",
        "    ]\n",
        "}\n",
        "\n",
        "num_samples = 100\n",
        "\n",
        "data = []\n",
        "for _ in range(num_samples):\n",
        "    label = random.choice(list(sentiment_categories.keys()))\n",
        "    sentence = random.choice(sentiment_categories[label])\n",
        "    data.append((sentence, label))\n",
        "\n",
        "df_sentiment_100 = pd.DataFrame(data, columns=[\"Sentence\", \"Label\"])\n",
        "\n",
        "df_sentiment_100.to_csv(\"random_sentiment_dataset_100.csv\", index=False)\n",
        "\n",
        "print(df_sentiment_100.head())\n"
      ]
    },
    {
      "cell_type": "code",
      "execution_count": null,
      "metadata": {
        "id": "UOJLgEO6UMEa"
      },
      "outputs": [],
      "source": [
        "import torch\n",
        "import torch.nn as nn\n",
        "import torch.optim as optim\n",
        "import torch.nn.functional as F\n",
        "import pandas as pd\n",
        "import random\n",
        "import numpy as np\n",
        "import seaborn as sns\n",
        "import matplotlib.pyplot as plt\n",
        "from torch.utils.data import Dataset, DataLoader\n",
        "from sklearn.model_selection import train_test_split"
      ]
    },
    {
      "cell_type": "markdown",
      "source": [
        "## Data Preparation"
      ],
      "metadata": {
        "id": "y8JBIwYFbuVM"
      }
    },
    {
      "cell_type": "code",
      "execution_count": null,
      "metadata": {
        "id": "QJClgZA1UMjd"
      },
      "outputs": [],
      "source": [
        "df = pd.read_csv(\"random_sentiment_dataset_100.csv\")\n",
        "\n",
        "all_words = set(word.lower() for sentence in df[\"Sentence\"] for word in sentence.split())\n",
        "word_to_index = {word: i+1 for i, word in enumerate(all_words)}\n",
        "index_to_word = {i: word for word, i in word_to_index.items()}\n",
        "\n",
        "label_mapping = {\"Joyful\": 0, \"Frustrated\": 1, \"Excited\": 2, \"Disappointed\": 3}\n",
        "df[\"Label\"] = df[\"Label\"].map(label_mapping)\n",
        "\n",
        "sentence_lengths = [len(sentence.split()) for sentence in df[\"Sentence\"]]\n",
        "SEQ_LEN = 15\n",
        "\n",
        "def tokenize(sentence):\n",
        "    tokens = [word_to_index[word.lower()] for word in sentence.split() if word.lower() in word_to_index]\n",
        "    return tokens[:SEQ_LEN] + [0] * (SEQ_LEN - len(tokens))  # Pad sequences to SEQ_LEN\n",
        "\n",
        "df[\"Tokenized\"] = df[\"Sentence\"].apply(tokenize)\n",
        "\n",
        "train_data, test_data = train_test_split(df, test_size=0.2, random_state=42)"
      ]
    },
    {
      "cell_type": "code",
      "execution_count": null,
      "metadata": {
        "id": "21eMo892UOaw"
      },
      "outputs": [],
      "source": [
        "class SentimentDataset(Dataset):\n",
        "    def __init__(self, dataframe):\n",
        "        self.sentences = dataframe[\"Tokenized\"].tolist()\n",
        "        self.labels = dataframe[\"Label\"].tolist()\n",
        "\n",
        "    def __len__(self):\n",
        "        return len(self.sentences)\n",
        "\n",
        "    def __getitem__(self, idx):\n",
        "        return torch.tensor(self.sentences[idx], dtype=torch.long), torch.tensor(self.labels[idx], dtype=torch.long)\n",
        "\n",
        "BATCH_SIZE = 32\n",
        "train_dataset = SentimentDataset(train_data)\n",
        "test_dataset = SentimentDataset(test_data)\n",
        "\n",
        "train_loader = DataLoader(train_dataset, batch_size=BATCH_SIZE, shuffle=True)\n",
        "test_loader = DataLoader(test_dataset, batch_size=BATCH_SIZE, shuffle=False)"
      ]
    },
    {
      "cell_type": "markdown",
      "source": [
        "## Position Encoding"
      ],
      "metadata": {
        "id": "mpc4zVNEbbfq"
      }
    },
    {
      "cell_type": "code",
      "execution_count": null,
      "metadata": {
        "id": "bjYO2pZgUQke"
      },
      "outputs": [],
      "source": [
        "class PositionalEncoding(nn.Module):\n",
        "    def __init__(self, max_seq_len, d_model):\n",
        "        super(PositionalEncoding, self).__init__()\n",
        "        self.positional_encoding = nn.Parameter(torch.randn(1, max_seq_len, d_model) * 0.01)\n",
        "\n",
        "    def forward(self, x):\n",
        "        seq_len = x.size(1)\n",
        "        return x + self.positional_encoding[:, :seq_len, :]"
      ]
    },
    {
      "cell_type": "code",
      "execution_count": null,
      "metadata": {
        "id": "o4uM_abOUSVq"
      },
      "outputs": [],
      "source": [
        "class Transformer(nn.Module):\n",
        "    def __init__(self, vocab_size, d_model, num_heads, num_layers, max_seq_len, num_classes, dropout=0.2):\n",
        "        super(Transformer, self).__init__()\n",
        "\n",
        "        self.embedding = nn.Embedding(vocab_size, d_model)\n",
        "\n",
        "        self.positional_encoding = PositionalEncoding(max_seq_len, d_model)\n",
        "\n",
        "        encoder_layer = nn.TransformerEncoderLayer(d_model, num_heads, dim_feedforward=4*d_model, dropout=dropout)\n",
        "        self.transformer_encoder = nn.TransformerEncoder(encoder_layer, num_layers)\n",
        "\n",
        "        self.fc1 = nn.Linear(d_model, 256)\n",
        "        self.fc2 = nn.Linear(256, 128)\n",
        "        self.fc3 = nn.Linear(128, num_classes)\n",
        "\n",
        "        self.layer_norm = nn.LayerNorm(d_model)\n",
        "\n",
        "        self.dropout = nn.Dropout(dropout)\n",
        "\n",
        "    def forward(self, x):\n",
        "        x = self.embedding(x)\n",
        "        x = self.positional_encoding(x)\n",
        "        x = self.layer_norm(x)\n",
        "        x = x.permute(1, 0, 2)\n",
        "        x = self.transformer_encoder(x)\n",
        "        x = x.mean(dim=0)\n",
        "        x = self.fc1(x)\n",
        "        x = F.relu(x)\n",
        "        x = self.dropout(x)\n",
        "        x = self.fc2(x)\n",
        "        x = F.relu(x)\n",
        "        x = self.dropout(x)\n",
        "        x = self.fc3(x)\n",
        "        return x"
      ]
    },
    {
      "cell_type": "code",
      "execution_count": null,
      "metadata": {
        "colab": {
          "base_uri": "https://localhost:8080/"
        },
        "id": "zk5cm4gRUUvV",
        "outputId": "a65d0d34-f63f-4ec5-b53e-37a03df76232"
      },
      "outputs": [
        {
          "name": "stderr",
          "output_type": "stream",
          "text": [
            "/usr/local/lib/python3.11/dist-packages/torch/nn/modules/transformer.py:379: UserWarning: enable_nested_tensor is True, but self.use_nested_tensor is False because encoder_layer.self_attn.batch_first was not True(use batch_first for better inference performance)\n",
            "  warnings.warn(\n"
          ]
        }
      ],
      "source": [
        "vocab_size = len(word_to_index) + 1\n",
        "d_model = 128\n",
        "num_heads = 8\n",
        "num_layers = 3\n",
        "max_seq_len = SEQ_LEN\n",
        "num_classes = 4\n",
        "num_epochs = 30\n",
        "learning_rate = 1e-4\n",
        "\n",
        "model = Transformer(vocab_size, d_model, num_heads, num_layers, max_seq_len, num_classes, dropout=0.2)\n",
        "optimizer = optim.Adam(model.parameters(), lr=learning_rate)\n",
        "criterion = nn.CrossEntropyLoss()\n",
        "\n",
        "scheduler = torch.optim.lr_scheduler.StepLR(optimizer, step_size=5, gamma=0.8)"
      ]
    },
    {
      "cell_type": "code",
      "execution_count": null,
      "metadata": {
        "colab": {
          "base_uri": "https://localhost:8080/"
        },
        "id": "P9Z8aI1pUo_L",
        "outputId": "b8d88265-1654-4a95-d487-b1263651f385"
      },
      "outputs": [
        {
          "data": {
            "text/plain": [
              "Transformer(\n",
              "  (embedding): Embedding(169, 128)\n",
              "  (positional_encoding): PositionalEncoding()\n",
              "  (transformer_encoder): TransformerEncoder(\n",
              "    (layers): ModuleList(\n",
              "      (0-2): 3 x TransformerEncoderLayer(\n",
              "        (self_attn): MultiheadAttention(\n",
              "          (out_proj): NonDynamicallyQuantizableLinear(in_features=128, out_features=128, bias=True)\n",
              "        )\n",
              "        (linear1): Linear(in_features=128, out_features=512, bias=True)\n",
              "        (dropout): Dropout(p=0.2, inplace=False)\n",
              "        (linear2): Linear(in_features=512, out_features=128, bias=True)\n",
              "        (norm1): LayerNorm((128,), eps=1e-05, elementwise_affine=True)\n",
              "        (norm2): LayerNorm((128,), eps=1e-05, elementwise_affine=True)\n",
              "        (dropout1): Dropout(p=0.2, inplace=False)\n",
              "        (dropout2): Dropout(p=0.2, inplace=False)\n",
              "      )\n",
              "    )\n",
              "  )\n",
              "  (fc1): Linear(in_features=128, out_features=256, bias=True)\n",
              "  (fc2): Linear(in_features=256, out_features=128, bias=True)\n",
              "  (fc3): Linear(in_features=128, out_features=4, bias=True)\n",
              "  (layer_norm): LayerNorm((128,), eps=1e-05, elementwise_affine=True)\n",
              "  (dropout): Dropout(p=0.2, inplace=False)\n",
              ")"
            ]
          },
          "execution_count": 108,
          "metadata": {},
          "output_type": "execute_result"
        }
      ],
      "source": [
        "model"
      ]
    },
    {
      "cell_type": "markdown",
      "source": [
        "## Model Training"
      ],
      "metadata": {
        "id": "Pq-7V_xAbUaw"
      }
    },
    {
      "cell_type": "code",
      "execution_count": null,
      "metadata": {
        "colab": {
          "base_uri": "https://localhost:8080/"
        },
        "id": "n_oUuJE4UWOj",
        "outputId": "1daa79cc-edb2-40b4-d842-2e590f08cfda"
      },
      "outputs": [
        {
          "name": "stdout",
          "output_type": "stream",
          "text": [
            "Epoch 1/30, Loss: 3.1090, Accuracy: 72.50%\n",
            "Epoch 2/30, Loss: 3.0836, Accuracy: 70.00%\n",
            "Epoch 3/30, Loss: 2.9948, Accuracy: 71.25%\n",
            "Epoch 4/30, Loss: 3.0841, Accuracy: 65.00%\n",
            "Epoch 5/30, Loss: 2.8746, Accuracy: 75.00%\n",
            "Epoch 6/30, Loss: 2.9707, Accuracy: 71.25%\n",
            "Epoch 7/30, Loss: 3.0921, Accuracy: 66.25%\n",
            "Epoch 8/30, Loss: 2.9234, Accuracy: 70.00%\n",
            "Epoch 9/30, Loss: 2.8061, Accuracy: 75.00%\n",
            "Epoch 10/30, Loss: 2.7659, Accuracy: 71.25%\n",
            "Epoch 11/30, Loss: 2.7490, Accuracy: 78.75%\n",
            "Epoch 12/30, Loss: 2.8461, Accuracy: 76.25%\n",
            "Epoch 13/30, Loss: 2.8709, Accuracy: 68.75%\n",
            "Epoch 14/30, Loss: 2.7277, Accuracy: 75.00%\n",
            "Epoch 15/30, Loss: 2.6835, Accuracy: 75.00%\n",
            "Epoch 16/30, Loss: 2.6814, Accuracy: 73.75%\n",
            "Epoch 17/30, Loss: 2.7905, Accuracy: 77.50%\n",
            "Epoch 18/30, Loss: 2.6728, Accuracy: 75.00%\n",
            "Epoch 19/30, Loss: 2.5974, Accuracy: 80.00%\n",
            "Epoch 20/30, Loss: 2.5563, Accuracy: 81.25%\n",
            "Epoch 21/30, Loss: 2.6302, Accuracy: 80.00%\n",
            "Epoch 22/30, Loss: 2.6249, Accuracy: 72.50%\n",
            "Epoch 23/30, Loss: 2.5465, Accuracy: 77.50%\n",
            "Epoch 24/30, Loss: 2.6182, Accuracy: 81.25%\n",
            "Epoch 25/30, Loss: 2.5599, Accuracy: 80.00%\n",
            "Epoch 26/30, Loss: 2.5414, Accuracy: 76.25%\n",
            "Epoch 27/30, Loss: 2.5224, Accuracy: 82.50%\n",
            "Epoch 28/30, Loss: 2.5202, Accuracy: 77.50%\n",
            "Epoch 29/30, Loss: 2.5065, Accuracy: 81.25%\n",
            "Epoch 30/30, Loss: 2.5174, Accuracy: 81.25%\n"
          ]
        }
      ],
      "source": [
        "for epoch in range(num_epochs):\n",
        "    model.train()\n",
        "    epoch_loss = 0\n",
        "    correct = 0\n",
        "    total = 0\n",
        "\n",
        "    for batch_X, batch_y in train_loader:\n",
        "        optimizer.zero_grad()\n",
        "        output = model(batch_X)\n",
        "        loss = criterion(output, batch_y)\n",
        "        loss.backward()\n",
        "        optimizer.step()\n",
        "\n",
        "        epoch_loss += loss.item()\n",
        "        correct += (output.argmax(1) == batch_y).sum().item()\n",
        "        total += batch_y.size(0)\n",
        "\n",
        "    train_accuracy = correct / total\n",
        "    print(f\"Epoch {epoch+1}/{num_epochs}, Loss: {epoch_loss:.4f}, Accuracy: {train_accuracy:.2%}\")\n",
        "\n",
        "    scheduler.step()"
      ]
    },
    {
      "cell_type": "code",
      "execution_count": null,
      "metadata": {
        "colab": {
          "base_uri": "https://localhost:8080/"
        },
        "id": "r2Od6fn8UYI2",
        "outputId": "d475548b-c3de-4954-f2ad-b041e7d662bc"
      },
      "outputs": [
        {
          "name": "stdout",
          "output_type": "stream",
          "text": [
            "Final Test Accuracy: 70.00%\n"
          ]
        }
      ],
      "source": [
        "model.eval()\n",
        "correct = 0\n",
        "total = 0\n",
        "\n",
        "with torch.no_grad():\n",
        "    for batch_X, batch_y in test_loader:\n",
        "        output = model(batch_X)\n",
        "        predicted = torch.argmax(output, dim=1)\n",
        "        correct += (predicted == batch_y).sum().item()\n",
        "        total += batch_y.size(0)\n",
        "\n",
        "accuracy = correct / total\n",
        "print(f\"Final Test Accuracy: {accuracy * 100:.2f}%\")"
      ]
    },
    {
      "cell_type": "code",
      "execution_count": null,
      "metadata": {
        "colab": {
          "base_uri": "https://localhost:8080/",
          "height": 577
        },
        "id": "T7UfLZTcUaf5",
        "outputId": "f550671b-0a5d-4a58-d7a9-a27dd58ba1e0"
      },
      "outputs": [
        {
          "data": {
            "image/png": "[encoded data removed]",
            "text/plain": [
              "<Figure size 1000x600 with 2 Axes>"
            ]
          },
          "metadata": {},
          "output_type": "display_data"
        }
      ],
      "source": [
        "positional_encodings = model.positional_encoding.positional_encoding.squeeze(0).cpu().detach().numpy()\n",
        "\n",
        "plt.figure(figsize=(10, 6))\n",
        "sns.heatmap(positional_encodings, annot=False, cmap=\"viridis\", cbar=True, cbar_kws={'label': 'Encoding Value'})\n",
        "plt.xlabel(\"Embedding Dimension\")\n",
        "plt.ylabel(\"Position in Sequence\")\n",
        "plt.title(\"Learnable Positional Encodings Visualization (PyTorch)\")\n",
        "plt.show()"
      ]
    },
    {
      "cell_type": "code",
      "execution_count": null,
      "metadata": {
        "id": "8MMGn366UcO2"
      },
      "outputs": [],
      "source": []
    }
  ],
  "metadata": {
    "accelerator": "GPU",
    "colab": {
      "gpuType": "T4",
      "provenance": []
    },
    "kernelspec": {
      "display_name": "Python 3",
      "name": "python3"
    },
    "language_info": {
      "name": "python"
    }
  },
  "nbformat": 4,
  "nbformat_minor": 0
}